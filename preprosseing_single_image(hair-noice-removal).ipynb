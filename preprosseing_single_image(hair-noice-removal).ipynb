{
 "cells": [
  {
   "cell_type": "markdown",
   "id": "163b951a",
   "metadata": {},
   "source": [
    "# Hair Removal"
   ]
  },
  {
   "cell_type": "code",
   "execution_count": null,
   "id": "8bafd796",
   "metadata": {},
   "outputs": [],
   "source": [
    "\n"
   ]
  },
  {
   "cell_type": "code",
   "execution_count": 19,
   "id": "86d746b8",
   "metadata": {},
   "outputs": [],
   "source": [
    "import cv2\n",
    "\n",
    "# Step 1: Read the input image\n",
    "image = cv2.imread(\"ISIC_0024320.jpg\")\n",
    "\n",
    "# Check if the image is loaded successfully\n",
    "if image is None:\n",
    "    print(\"Error: Unable to load image\")\n",
    "else:\n",
    "    # Step 2: Display the input image\n",
    "    cv2.imshow(\"Input Image\", image)\n",
    "    cv2.waitKey(0)\n",
    "    cv2.destroyAllWindows()\n"
   ]
  },
  {
   "cell_type": "code",
   "execution_count": 20,
   "id": "07936eac",
   "metadata": {},
   "outputs": [],
   "source": [
    "#step 2\n",
    "# Resize image to the specified width and height\n",
    "\n",
    "width =512\n",
    "height = 512\n",
    "resized_img = cv2.resize(image, (width, height))\n",
    "\n",
    "cv2.imshow(\"Resized Image\", resized_img)\n",
    "cv2.waitKey(0)\n",
    "cv2.destroyAllWindows()"
   ]
  },
  {
   "cell_type": "code",
   "execution_count": 21,
   "id": "4bd56292",
   "metadata": {},
   "outputs": [],
   "source": [
    "# Step 3: Convert RGB image to grayscale\n",
    "gray_image = cv2.cvtColor(resized_img, cv2.COLOR_BGR2GRAY)\n",
    "\n",
    "# Display the grayscale image\n",
    "cv2.imshow(\"Grayscale Image\", gray_image)\n",
    "cv2.waitKey(0)\n",
    "cv2.destroyAllWindows()"
   ]
  },
  {
   "cell_type": "code",
   "execution_count": 22,
   "id": "6499dbb5",
   "metadata": {},
   "outputs": [],
   "source": [
    "\n",
    "# Step 4: Apply Morphological Black-Hat transformation\n",
    "kernel_size = 15  # Adjust kernel size as needed\n",
    "kernel = cv2.getStructuringElement(cv2.MORPH_RECT, (kernel_size, kernel_size))\n",
    "blackhat_image = cv2.morphologyEx(gray_image, cv2.MORPH_BLACKHAT, kernel)\n",
    "\n",
    "# Display the Black-Hat transformed image\n",
    "cv2.imshow(\"Black-Hat Transformed Image\", blackhat_image)\n",
    "cv2.waitKey(0)\n",
    "cv2.destroyAllWindows()"
   ]
  },
  {
   "cell_type": "code",
   "execution_count": 23,
   "id": "3e3fef3c",
   "metadata": {},
   "outputs": [],
   "source": [
    "# Step 5: Create a mask for inpainting task\n",
    "_, mask = cv2.threshold(blackhat_image, 10, 255, cv2.THRESH_BINARY)\n",
    "mask = cv2.resize(mask, (image.shape[1], image.shape[0]))\n",
    "\n",
    "# Display the mask\n",
    "cv2.imshow(\"Mask\", mask)\n",
    "cv2.waitKey(0)\n",
    "cv2.destroyAllWindows()\n"
   ]
  },
  {
   "cell_type": "code",
   "execution_count": 24,
   "id": "0279f500",
   "metadata": {},
   "outputs": [],
   "source": [
    "# Step 6: Apply inpainting algorithm on the original image using the mask\n",
    "inpainted_image = cv2.inpaint(image, mask, inpaintRadius=3, flags=cv2.INPAINT_TELEA)\n",
    "\n",
    "# Display the image after hair removal\n",
    "cv2.imshow(\"Image after Hair Removal\", inpainted_image)\n",
    "cv2.waitKey(0)\n",
    "cv2.destroyAllWindows()"
   ]
  },
  {
   "cell_type": "code",
   "execution_count": null,
   "id": "33221b94",
   "metadata": {},
   "outputs": [],
   "source": [
    "\n"
   ]
  },
  {
   "cell_type": "code",
   "execution_count": null,
   "id": "5892c049",
   "metadata": {},
   "outputs": [],
   "source": []
  },
  {
   "cell_type": "markdown",
   "id": "48a92548",
   "metadata": {},
   "source": [
    "# Noise Removal"
   ]
  },
  {
   "cell_type": "code",
   "execution_count": 25,
   "id": "fbf8eb43",
   "metadata": {},
   "outputs": [],
   "source": [
    "# Step 7: Apply Gaussian filtering for noise removal\n",
    "kernel_size = (7, 7)  # Define the kernel size\n",
    "sigma_x = 0  # Set the standard deviation in the X direction (auto-calculated from kernel size)\n",
    "sigma_y = 0  # Set the standard deviation in the Y direction (auto-calculated from kernel size)\n",
    "blurred_image = cv2.GaussianBlur(inpainted_image, kernel_size, sigma_x, sigma_y)\n",
    "\n",
    "# Display the original and blurred images\n",
    "cv2.imshow(\"Original Image\", inpainted_image)\n",
    "cv2.imshow(\"Blurred Image\", blurred_image)\n",
    "cv2.waitKey(0)\n",
    "cv2.destroyAllWindows()\n"
   ]
  },
  {
   "cell_type": "code",
   "execution_count": null,
   "id": "3a563db3",
   "metadata": {},
   "outputs": [],
   "source": []
  }
 ],
 "metadata": {
  "kernelspec": {
   "display_name": "Python 3 (ipykernel)",
   "language": "python",
   "name": "python3"
  },
  "language_info": {
   "codemirror_mode": {
    "name": "ipython",
    "version": 3
   },
   "file_extension": ".py",
   "mimetype": "text/x-python",
   "name": "python",
   "nbconvert_exporter": "python",
   "pygments_lexer": "ipython3",
   "version": "3.9.7"
  }
 },
 "nbformat": 4,
 "nbformat_minor": 5
}
